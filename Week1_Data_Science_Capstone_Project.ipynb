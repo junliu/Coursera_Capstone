{
 "cells": [
  {
   "cell_type": "markdown",
   "id": "loved-lincoln",
   "metadata": {},
   "source": [
    "# Data Science Course Capstone"
   ]
  },
  {
   "cell_type": "markdown",
   "id": "exceptional-mattress",
   "metadata": {},
   "source": [
    "The Aim of this notebook is to complete the IBM Data Science Coursera Capstone project."
   ]
  },
  {
   "cell_type": "code",
   "execution_count": 1,
   "id": "metropolitan-profile",
   "metadata": {},
   "outputs": [],
   "source": [
    "import pandas as pd\n",
    "import numpy as np"
   ]
  },
  {
   "cell_type": "code",
   "execution_count": 2,
   "id": "excessive-twenty",
   "metadata": {},
   "outputs": [
    {
     "name": "stdout",
     "output_type": "stream",
     "text": [
      "Hello Capstone Project Course!\n"
     ]
    }
   ],
   "source": [
    "print('Hello Capstone Project Course!')"
   ]
  },
  {
   "cell_type": "code",
   "execution_count": null,
   "id": "affected-cleanup",
   "metadata": {},
   "outputs": [],
   "source": []
  }
 ],
 "metadata": {
  "kernelspec": {
   "display_name": "Python 3",
   "language": "python",
   "name": "python3"
  },
  "language_info": {
   "codemirror_mode": {
    "name": "ipython",
    "version": 3
   },
   "file_extension": ".py",
   "mimetype": "text/x-python",
   "name": "python",
   "nbconvert_exporter": "python",
   "pygments_lexer": "ipython3",
   "version": "3.8.5"
  }
 },
 "nbformat": 4,
 "nbformat_minor": 5
}
